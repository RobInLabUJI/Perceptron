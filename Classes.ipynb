{
  "nbformat": 4,
  "nbformat_minor": 0,
  "metadata": {
    "colab": {
      "provenance": [],
      "toc_visible": true,
      "authorship_tag": "ABX9TyN5n+kc0F+ofnISjOH8GvTj",
      "include_colab_link": true
    },
    "kernelspec": {
      "name": "python3",
      "display_name": "Python 3"
    },
    "language_info": {
      "name": "python"
    }
  },
  "cells": [
    {
      "cell_type": "markdown",
      "metadata": {
        "id": "view-in-github",
        "colab_type": "text"
      },
      "source": [
        "<a href=\"https://colab.research.google.com/github/RobInLabUJI/Perceptron/blob/main/Classes.ipynb\" target=\"_parent\"><img src=\"https://colab.research.google.com/assets/colab-badge.svg\" alt=\"Open In Colab\"/></a>"
      ]
    },
    {
      "cell_type": "markdown",
      "source": [
        "# Linearly separable classification with a perceptron\n",
        "\n",
        "Perceptrons not only can model logical functions, but they are linear classifiers that work well for linearly separable problems."
      ],
      "metadata": {
        "id": "iB8Id9JxnG8A"
      }
    },
    {
      "cell_type": "code",
      "execution_count": null,
      "metadata": {
        "id": "Aei9fYRvnD3T"
      },
      "outputs": [],
      "source": [
        "import numpy as np\n",
        "import sklearn.linear_model\n",
        "\n",
        "import matplotlib.pyplot as plt\n",
        "\n",
        "def plot_decision_boundary(net):\n",
        "    ...\n",
        "        \n",
        "def plot_data(x,y):\n",
        "    ...\n",
        "\n",
        "%matplotlib inline"
      ]
    },
    {
      "cell_type": "markdown",
      "source": [
        "## Load in the data\n",
        "\n",
        "Let's imagine that there are two classes of dots (red and black). Each dot is defined by two features. The dataset consists of a matrix `x` with as many rows as dots, and two columns, and the vector `y` with as many elements as dots. The value of `y[i]` is 0 for red dots and 1 for black dots.\n",
        "\n",
        "You must fill in the values of the second row of matrix `x` and vector `y`, at your choice, with these restrictions:\n",
        "* the values of matrix `x` must be between 1 and 7 (inclusive)\n",
        "* the values of vector `y` must be 0's (red dots) or 1's (black dots)\n",
        "* there should be between 5 and 9 red dots (inclusive)\n",
        "* the set of red dots must be **linearly separable** from the set of black dots"
      ],
      "metadata": {
        "id": "3wyzp8MAntCQ"
      }
    },
    {
      "cell_type": "code",
      "source": [
        "# FILL IN THE MISSING VALUES\n",
        "\n",
        "x = np.array([[2,2],[1,3],[2,3],[5,3],[7,3],[2,4],[3,4],\\\n",
        "                   ,     ,     ,     ,     ,     , ])\n",
        "\n",
        "y = np.array([ , , , , , , , , , , , , , ])"
      ],
      "metadata": {
        "id": "omcv02lBnpNA"
      },
      "execution_count": null,
      "outputs": []
    },
    {
      "cell_type": "markdown",
      "source": [
        "## Plot the data\n",
        "\n",
        "Let's represent graphically the data. Make sure that the sets are linearly separable."
      ],
      "metadata": {
        "id": "uLYinKZonysc"
      }
    },
    {
      "cell_type": "code",
      "source": [
        "# DON'T MODIFY THIS CODE\n",
        "plot_data(x, y)\n",
        "plt.axis([0,8,0,8]);"
      ],
      "metadata": {
        "id": "8GrnRbDFnwo2"
      },
      "execution_count": null,
      "outputs": []
    },
    {
      "cell_type": "markdown",
      "source": [
        "## Build the model\n",
        "Create a [perceptron object](http://scikit-learn.org/stable/modules/generated/sklearn.linear_model.Perceptron.html)."
      ],
      "metadata": {
        "id": "jmDeyisuoA3d"
      }
    },
    {
      "cell_type": "code",
      "source": [
        "# ADD THE NECESSARY STATEMENTS HERE"
      ],
      "metadata": {
        "id": "cKWMrQ6wn1TK"
      },
      "execution_count": null,
      "outputs": []
    },
    {
      "cell_type": "markdown",
      "source": [
        "## Train\n",
        "Repeat the following cell (`Ctrl+Enter`) until the model converges."
      ],
      "metadata": {
        "id": "AGVP6bHZoGpU"
      }
    },
    {
      "cell_type": "code",
      "source": [
        "# ADD THE NECESSARY STATEMENTS HERE\n",
        "\n",
        "# DON'T MODIFY THE CODE BELOW\n",
        "print(\"Coefficient 0: %6.3f\" % net.coef_[0,0])\n",
        "print(\"Coefficient 1: %6.3f\" % net.coef_[0,1])\n",
        "print(\"         Bias: %6.3f\" % net.intercept_)\n",
        "plot_data(x, y)\n",
        "plt.axis([0,8,0,8]);\n",
        "plot_decision_boundary(net)\n",
        "print('    Target: %s' % np.array_str(y))\n",
        "print('Prediction: %s' % np.array_str(net.predict(x)))"
      ],
      "metadata": {
        "id": "2t7ebUBaoEA6"
      },
      "execution_count": null,
      "outputs": []
    },
    {
      "cell_type": "markdown",
      "source": [
        "When the model converges, the perceptron boundary completely separates the samples of each class (0's and 1's)."
      ],
      "metadata": {
        "id": "gIfZIVRTofoj"
      }
    },
    {
      "cell_type": "code",
      "source": [],
      "metadata": {
        "id": "QApnZ8JP2rL5"
      },
      "execution_count": null,
      "outputs": []
    }
  ]
}