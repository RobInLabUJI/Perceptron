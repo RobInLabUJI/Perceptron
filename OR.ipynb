{
  "nbformat": 4,
  "nbformat_minor": 0,
  "metadata": {
    "colab": {
      "provenance": [],
      "toc_visible": true,
      "authorship_tag": "ABX9TyN0Aar1WmcYIP8v8H8L1kfk",
      "include_colab_link": true
    },
    "kernelspec": {
      "name": "python3",
      "display_name": "Python 3"
    },
    "language_info": {
      "name": "python"
    }
  },
  "cells": [
    {
      "cell_type": "markdown",
      "metadata": {
        "id": "view-in-github",
        "colab_type": "text"
      },
      "source": [
        "<a href=\"https://colab.research.google.com/github/RobInLabUJI/Perceptron/blob/main/OR.ipynb\" target=\"_parent\"><img src=\"https://colab.research.google.com/assets/colab-badge.svg\" alt=\"Open In Colab\"/></a>"
      ]
    },
    {
      "cell_type": "markdown",
      "source": [
        "# Learning the OR function with a perceptron\n",
        "\n",
        "This is the truth table of the OR function.\n",
        "\n",
        "| Input $x_1$ | Input $x_2$ | Output $y$ |\n",
        "| :---: | :---: | :---: |\n",
        "| 0\t| 0\t| 0 |\n",
        "| 0\t| 1\t| 1 |\n",
        "| 1\t| 0\t| 1 |\n",
        "| 1\t| 1\t| 1 |\n",
        "\n",
        "This is also a linear separability example using a single [perceptron](https://en.wikipedia.org/wiki/Perceptron).\n",
        "\n",
        "Again, let's do some imports and define the functions for fancy plots."
      ],
      "metadata": {
        "id": "iB8Id9JxnG8A"
      }
    },
    {
      "cell_type": "code",
      "execution_count": null,
      "metadata": {
        "id": "Aei9fYRvnD3T"
      },
      "outputs": [],
      "source": [
        "import numpy as np\n",
        "import sklearn.linear_model\n",
        "\n",
        "import matplotlib.pyplot as plt\n",
        "\n",
        "def plot_decision_boundary(net):\n",
        "    ...\n",
        "        \n",
        "def plot_data(x,y):\n",
        "    ...\n",
        "\n",
        "%matplotlib inline"
      ]
    },
    {
      "cell_type": "markdown",
      "source": [
        "## Load in the data"
      ],
      "metadata": {
        "id": "3wyzp8MAntCQ"
      }
    },
    {
      "cell_type": "code",
      "source": [],
      "metadata": {
        "id": "omcv02lBnpNA"
      },
      "execution_count": null,
      "outputs": []
    },
    {
      "cell_type": "markdown",
      "source": [
        "## Plot the data\n"
      ],
      "metadata": {
        "id": "uLYinKZonysc"
      }
    },
    {
      "cell_type": "code",
      "source": [],
      "metadata": {
        "id": "8GrnRbDFnwo2"
      },
      "execution_count": null,
      "outputs": []
    },
    {
      "cell_type": "markdown",
      "source": [
        "## Build the model\n",
        "Create a [perceptron object](http://scikit-learn.org/stable/modules/generated/sklearn.linear_model.Perceptron.html)."
      ],
      "metadata": {
        "id": "jmDeyisuoA3d"
      }
    },
    {
      "cell_type": "code",
      "source": [],
      "metadata": {
        "id": "cKWMrQ6wn1TK"
      },
      "execution_count": null,
      "outputs": []
    },
    {
      "cell_type": "markdown",
      "source": [
        "## Train\n",
        "Repeat the following cell (`Ctrl+Enter`) until the model converges."
      ],
      "metadata": {
        "id": "AGVP6bHZoGpU"
      }
    },
    {
      "cell_type": "code",
      "source": [],
      "metadata": {
        "id": "2t7ebUBaoEA6"
      },
      "execution_count": null,
      "outputs": []
    },
    {
      "cell_type": "markdown",
      "source": [
        "Again, when the model converges, the perceptron boundary completely separates the samples of each class (0's and 1's).\n",
        "\n",
        "The resulting plot should look like this:\n",
        "\n",
        "\n",
        "<img src=\"https://github.com/RobInLabUJI/Perceptron/raw/7592de1ff8d4c2459106700e5e26bd2ac983f1da/img/perceptron_or_converge.png\" align=\"right\">"
      ],
      "metadata": {
        "id": "gIfZIVRTofoj"
      }
    }
  ]
}