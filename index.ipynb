{
  "nbformat": 4,
  "nbformat_minor": 0,
  "metadata": {
    "colab": {
      "provenance": [],
      "authorship_tag": "ABX9TyNN8Heme7N35c/1JlzeNF+s",
      "include_colab_link": true
    },
    "kernelspec": {
      "name": "python3",
      "display_name": "Python 3"
    },
    "language_info": {
      "name": "python"
    }
  },
  "cells": [
    {
      "cell_type": "markdown",
      "metadata": {
        "id": "view-in-github",
        "colab_type": "text"
      },
      "source": [
        "<a href=\"https://colab.research.google.com/github/RobInLabUJI/Perceptron/blob/main/index.ipynb\" target=\"_parent\"><img src=\"https://colab.research.google.com/assets/colab-badge.svg\" alt=\"Open In Colab\"/></a>"
      ]
    },
    {
      "cell_type": "markdown",
      "source": [
        "# Perceptrons\n",
        "\n",
        "[<img src=\"https://upload.wikimedia.org/wikipedia/commons/thumb/3/31/Perceptron.svg/320px-Perceptron.svg.png\" align=\"right\">](https://commons.wikimedia.org/wiki/File:Perceptron.svg)\n",
        "*From Wikipedia, the free encyclopedia*\n",
        "\n",
        "The [perceptron](https://en.wikipedia.org/wiki/Perceptron) is an algorithm for supervised learning of binary classifiers (functions that can decide whether an input, represented by a vector of numbers, belongs to some specific class or not). It is a type of linear classifier, i.e. a classification algorithm that makes its predictions based on a linear predictor function combining a set of weights with the feature vector. The algorithm allows for online learning, in that it processes elements in the training set one at a time.\n",
        "\n",
        "The perceptron algorithm dates back to the late 1950s; its first implementation, in custom hardware, was one of the first artificial neural networks to be produced."
      ],
      "metadata": {
        "id": "K6nmKtxElv5V"
      }
    },
    {
      "cell_type": "markdown",
      "source": [
        "## Activities\n",
        "\n",
        "You should run first the example of the AND function, then complete with a similar code the exercises of the OR function and the linearly separable classes.\n",
        "\n",
        "* [Example: the AND function](AND.ipynb)\n",
        "* [Exercise: the OR function](OR_Exercise.ipynb)\n",
        "* [Exercise: linearly separable classes](Classes_Exercise.ipynb)\n",
        "\n",
        "For the submission of this task, please follow the instructions of the corresponding workshop in Aula Virtual."
      ],
      "metadata": {
        "id": "vFpOXv6Al4be"
      }
    }
  ]
}